{
 "cells": [
  {
   "cell_type": "code",
   "execution_count": null,
   "id": "5d8e9cfc-b7da-4d7f-b636-244e418ebb0a",
   "metadata": {
    "tags": []
   },
   "outputs": [],
   "source": [
    "print('importing packages...')"
   ]
  },
  {
   "cell_type": "code",
   "execution_count": null,
   "id": "ec7a7b99",
   "metadata": {
    "tags": []
   },
   "outputs": [],
   "source": [
    "import time\n",
    "tot_tic = time.time()\n",
    "import matplotlib.pyplot as plt\n",
    "import matplotlib.image as mpimage\n",
    "import sys\n",
    "import pandas as pd\n",
    "import cantera as ct\n",
    "import numpy as np\n",
    "import os\n",
    "from scipy import interpolate\n",
    "import plotly.graph_objects as go"
   ]
  },
  {
   "cell_type": "code",
   "execution_count": null,
   "id": "4499ccb8-d8c3-4d64-add2-bc691df00de5",
   "metadata": {
    "tags": []
   },
   "outputs": [],
   "source": [
    "########## System conditions ##########\n",
    "lengths = [36,13,133,97] # inches\n",
    "diameters = [20.5,15.5,10.5,8] # inches\n",
    "\n",
    "SR_275 = 2.161\n",
    "# SR_30 = \n",
    "SR_32 = 1.842\n",
    "SR_34 = 1.737\n",
    "SR_35 = 1.67\n",
    "# SR_395 = \n",
    "SR_41 = 1.42\n",
    "SR_43 = 1.357\n",
    "SR_45 = 1.295\n",
    "\n",
    "SR = SR_45 # stoichiometric ratio\n",
    "\n",
    "exhaust_gas_q = 973 # total volumetric flow rate (L/min)\n",
    "injection_loc = 55 # inches, see files\\rainbow_ports.txt for list of port locations\n",
    "injectant = 'CF4' # injected species, must be in quotations and match name in mechanism file\n",
    "injectant_conc = 35e-6 # injected species concentration in furnace @ injection point (mol fraction)\n",
    "output_folder = 'Output/CF4' # script will auto-generate the folder\n",
    "\n",
    "########## Mechanism ##########\n",
    "#mechanism = 'NCSU_PFASmech1.0.yaml' # mechanism file, irrelevant if 'yaml' = False\n",
    "mechanism = 'NCSU_PFASmech1.0.yaml' # mechanism file, irrelevant if 'yaml' = False\n",
    "yaml = True # if False, below chemkin format files will be converted to a Cantera friendly yaml file\n",
    "kinetics = 'NCSU_PFASmech1.0_Kinetics.inp'\n",
    "thermo = 'NCSU_PFASmech1.0_Thermo.dat'\n",
    "output = 'new_mech_file.yaml' # must have .yaml extension\n",
    "\n",
    "measured_temps_275 = [927,864,819,753,711,655,501,449,399,364] # °C\n",
    "measured_temps_30 = [931, 906, 850, 803, 763, 712, 526, 477, 430, 391]\n",
    "#measured_temps_32 = \n",
    "#measured_temps_34 =\n",
    "#measured_temps_35 = \n",
    "measured_temps_395 = [1074, 1065, 996, 948, 889, 826, 598, 549, 497, 441]\n",
    "#measured_temps_41 = \n",
    "#measured_temps_43 = \n",
    "measured_temps_45 = [1198, 1177, 1116, 1055, 997, 916, 649, 602, 553, 491]\n",
    "\n",
    "########## Temperature fitting ##########\n",
    "measured_temps = measured_temps_45 # °C\n",
    "measured_temps_locs = [18,55,79,103,127,151,201,225,249,273] # inches\n",
    "ff = 0.9 # \"fudge factor\" for flame temp because Cantera's solution is adiabatic\n",
    "spline = True # fit using scipy.interpolate.UnivariateSpline (True) or numpy.polyfit (False)\n",
    "k = 3 # spline degree\n",
    "s = None # spline smoothing factor, see scipy documentation for guidance\n",
    "pdeg = 4 # polynomial degree, only appliciable if 'spline' is set to False\n",
    "\n",
    "########## Path diagram ##########\n",
    "path_res_time = 0.001 # seconds, precision will be limited by grid resolution settings\n",
    "path_element = 'F' # case sensitive\n",
    "path_species = 'all' # 'all' or individual species name to only display fluxes connected to that species\n",
    "path_threshold = 0.1 # kmol/m3/sec\n",
    "path_details = False # or True\n",
    "\n",
    "########## Grid resolution ##########\n",
    "post_injection_res_time_step = 1e-3 # residence time grid size (seconds)\n",
    "post_injection_duration = 1e-1 # seconds\n",
    "elsewhere_res_time_step = 1e-2 # residence time grid size (seconds)\n",
    "\n",
    "########## Additional settings ##########\n",
    "run_with_dialog = False # Running with dialog may be best for public distributions\n",
    "print_info_every = 100 # print simulation info every n time steps\n",
    "atol = 1e-15 # absolute error tolerance for reactor equations solver\n",
    "rtol = 1e-9 # relative error tolerance for reactor equations solver\n",
    "it0 = True # generate output with pre-injection data trimmed off (True) or not trimmed (False)\n",
    "concentrations_interactive_plot_cutoff = 1e-7 # mol fraction\n",
    "rates_interactive_plot_cutoff = 1e-8 # mol/m3/s\n",
    "save_rates_solution = False # Generating the net rates excel spreadsheet adds a lot of wall time\n",
    "individual_plots = False # Generating individual species concentration plots adds a lot of wall time\n",
    "major_species_cutoff = 1e-6 # mol fraction\n",
    "minor_species_cutoff = 1e-15 # mol fraction"
   ]
  },
  {
   "cell_type": "raw",
   "id": "6ecb5190-279f-462a-937b-aebed05829ce",
   "metadata": {},
   "source": [
    "filename = \"input.txt\"\n",
    "with open(filename) as source_file:\n",
    "    code = compile(source_file.read(), filename, \"exec\")\n",
    "exec(code)"
   ]
  },
  {
   "cell_type": "code",
   "execution_count": null,
   "id": "2ccc18ad-0d49-4169-9cfc-fcf03eccdf5a",
   "metadata": {
    "tags": []
   },
   "outputs": [],
   "source": [
    "\n",
    "if os.path.exists(output_folder) == False: #check if output folder exists\n",
    "    os.makedirs(output_folder) #create output folder if it doesn't exist\n",
    "\n",
    "file = open(f'{output_folder}/log.txt', 'w') #create log file\n",
    "file.close() #close log file\n",
    "\n",
    "def myprint(txt): #print to console and log file\n",
    "    print(txt, file=open(f'{output_folder}/log.txt', 'a'))\n",
    "    print(txt)\n",
    "    file.close()\n",
    "    \n",
    "def myinput(txt): #input to console and log file\n",
    "    inp = input(txt)\n",
    "    print(txt+inp, file=open(f'{output_folder}/log.txt', 'a'))\n",
    "    file.close()\n",
    "    return inp"
   ]
  },
  {
   "cell_type": "code",
   "execution_count": null,
   "id": "081f3c52-36b3-4c87-9c11-be69d9c141f0",
   "metadata": {
    "tags": []
   },
   "outputs": [],
   "source": [
    "# restart function only works for executable, not in python interpreter\n",
    "def restart_main():\n",
    "    executable = sys.executable\n",
    "    executable_filename = os.path.split(executable)[1]\n",
    "    os.execv(executable, sys.argv)\n",
    "\n",
    "while os.system('dot -V') == 1:\n",
    "    myprint('graphviz must be installed on your PATH to generate reaction pathway diagrams')\n",
    "    time.sleep(1)\n",
    "    myinput('press enter to launch graphviz installer')\n",
    "    \n",
    "    path_to_file = 'files/'\n",
    "    exe = 'graphviz-install.exe'\n",
    "    cur_dir = os.getcwd()\n",
    "    os.chdir(path_to_file) # change folder\n",
    "    os.system(f'{exe}')\n",
    "    os.chdir(cur_dir) # go back\n",
    "    \n",
    "    myprint('graphviz installed -> restarting PFRTP run...')\n",
    "    \n",
    "    restart_main()"
   ]
  },
  {
   "cell_type": "code",
   "execution_count": null,
   "id": "e9bd7766-fd0e-453b-b8ee-4bc8b9ba9a7f",
   "metadata": {
    "tags": []
   },
   "outputs": [],
   "source": [
    "if yaml == False and os.path.exists(output) == True:\n",
    "    myprint('output mechanism yaml file already exists -> no mechanism file format conversion necessary...')\n",
    "    mechanism = output\n",
    "elif yaml == False:\n",
    "    myprint('converting chemkin mechanism files to yaml file...')\n",
    "    args = f' python -m cantera.ck2yaml --input={kinetics} --thermo={thermo} --output={output} --permissive'\n",
    "    os.system(args)\n",
    "    mechanism = output\n",
    "else:\n",
    "    ..."
   ]
  },
  {
   "cell_type": "code",
   "execution_count": null,
   "id": "bb69edd9-a46c-4987-baf4-092ba527ba3c",
   "metadata": {
    "tags": []
   },
   "outputs": [],
   "source": [
    "myprint(' ')\n",
    "gri_names = list(ct.Solution('files/gri3.0.yaml').species_names)\n",
    "mech_names = list(ct.Solution(mechanism).species_names)\n",
    "notin = []\n",
    "for species in gri_names:\n",
    "    if species in mech_names:\n",
    "        ...\n",
    "    else:\n",
    "        notin.append(species)\n",
    "\n",
    "if notin:\n",
    "    myprint('WARNING! PFRTP uses the GRI-Mech 3.0 kinetic mechanism to estimate the composition of flame off-gas given the input stoichiometric ratio. '+\n",
    "            'The subsequent evolution of that gas in the PFR system is based on the input kinetic mechanism.'+\n",
    "            ' GRI-Mech 3.0 contains '+str(len(notin))+' species that were not identified in the input mechanism: '+\" \".join(notin))\n",
    "    myprint('You may wish to (a) check if any of the listed species are included in the input mechanism using a different name and rename them accordingly and/or (b) confirm that the listed species are not relevant in this case.')\n",
    "    myprint('The GRI-Mech 3.0 file used by PFRTP can be found at files')\n",
    "    myprint(' ')\n",
    "    myprint(' ')\n",
    "else:\n",
    "    ..."
   ]
  },
  {
   "cell_type": "code",
   "execution_count": null,
   "id": "d66c722f-a634-4fcf-a08c-136afe9beda9",
   "metadata": {
    "tags": []
   },
   "outputs": [],
   "source": [
    "# Burn a flame and save the off-gas state as a yaml file.\n",
    "\n",
    "ER = SR**-1\n",
    "fname = 'files/flames/'+'flame_'+str(SR)+'.yaml'\n",
    "if os.path.exists(fname) == False:\n",
    "    myprint('flame solution does not exist for input SR -> solving flame...')\n",
    "    To = 300\n",
    "    Po = 101325\n",
    "    gas = ct.Solution('files/gri3.0.yaml')\n",
    "    gas.set_equivalence_ratio(ER, \"CH4\", {\"O2\": 1.0, \"N2\": 3.76})\n",
    "    gas.TP = To, Po\n",
    "    flame = ct.FreeFlame(gas)\n",
    "    flame.solve(auto=True, loglevel=1)\n",
    "    flame.gas.write_yaml(fname)\n",
    "    myprint('flame solved -> creating polynomial fit for temperature profile...')\n",
    "else:\n",
    "    myprint('flame solution exists for input SR -> fitting temperature profile...')"
   ]
  },
  {
   "cell_type": "code",
   "execution_count": null,
   "id": "3c9d66c3-9b9d-41b0-953a-4ce3262986c2",
   "metadata": {
    "tags": []
   },
   "outputs": [],
   "source": [
    "# Convert user input to model-friendly input\n",
    "\n",
    "flame_temp_estimate = ct.Solution(fname).T*ff\n",
    "\n",
    "if 0 in measured_temps_locs:\n",
    "    measured_temps_new = [x+273.15 for x in measured_temps]\n",
    "    measured_temps_locs_new = measured_temps_locs\n",
    "else:\n",
    "    measured_temps_new = [flame_temp_estimate]+[x+273.15 for x in measured_temps]\n",
    "    measured_temps_locs_new = [0] + measured_temps_locs\n",
    "\n",
    "# fit temps to axial length (a reasonable simplification)\n",
    "xf = range(sum(lengths)+1)\n",
    "if spline == True:\n",
    "    spl = interpolate.UnivariateSpline(measured_temps_locs_new, measured_temps_new, k=k, s=s)\n",
    "    T_fit = spl(xf)\n",
    "else:\n",
    "    z = np.polyfit(measured_temps_locs_new, measured_temps_new, pdeg)\n",
    "    f = np.poly1d(z)\n",
    "    T_fit = np.round(f(xf), 0) #### don't need round anymore?\n",
    "\n",
    "# Plot fit\n",
    "plt.plot(xf,T_fit,label='fit')\n",
    "if 0 in measured_temps_locs:\n",
    "    plt.scatter(measured_temps_locs,measured_temps_new,label='measured')\n",
    "else:\n",
    "    plt.scatter(0,flame_temp_estimate,label='flame temperature estimate')\n",
    "    plt.scatter(measured_temps_locs,measured_temps_new[1:],label='measured temperatures')\n",
    "plt.ylabel('Temperature (K)')\n",
    "plt.xlabel('Axial Distance (inches)')\n",
    "plt.legend()\n",
    "plt.savefig(output_folder+'\\\\temperature_fit_axial_distance.png',dpi=300,\n",
    "                    bbox_inches='tight',facecolor='white')\n",
    "plt.show()"
   ]
  },
  {
   "cell_type": "code",
   "execution_count": null,
   "id": "89eb2bc5-dccc-4102-ac6b-9906de67bffb",
   "metadata": {
    "tags": []
   },
   "outputs": [],
   "source": [
    "# Convert axial length fit to residence time fit based on slice volumes, temperatures, and flow rates\n",
    "\n",
    "# start by making list of slice volumes, slices have 1-inch lengths\n",
    "v = [0]\n",
    "for l,d in zip(lengths,diameters):\n",
    "    slice_lengths = np.zeros(l) + 1 # a list of \"1\"s the length of the nth section\n",
    "    slice_vols = slice_lengths * np.pi * d**2 / 4 # a list of the corresponding volumes\n",
    "    v.extend(list(slice_vols)) # extend the total list of volumes\n",
    "    \n",
    "Q = exhaust_gas_q * T_fit / 293.15 # list of T-corrected flows through each volume (L/min) based on ideal gas law\n",
    "res_t = 60*np.array(v)/(61*Q) # list of slice res times (seconds), divided by 61 to convert L/min to in^3/min\n",
    "t_cum = np.cumsum(res_t) # a list of slice cumulative res times (seconds)\n",
    "\n",
    "# Plot fit\n",
    "if 0 in measured_temps_locs:\n",
    "    plt.scatter(t_cum[np.round(measured_temps_locs,0)],measured_temps_new,c='red',label='measured')\n",
    "else:\n",
    "    plt.scatter(t_cum[np.round(measured_temps_locs,0)],measured_temps_new[1:],c='red',label='measured temperatures')\n",
    "    plt.scatter(t_cum[0],measured_temps_new[0],c=\"green\",label='flame temperature estimate')\n",
    "plt.plot(t_cum,T_fit,label='fit')\n",
    "plt.ylabel('Temperature (K)')\n",
    "plt.xlabel('Residence Time (seconds)')\n",
    "plt.legend()\n",
    "plt.savefig(output_folder+'\\\\temperature_fit_res_time.png',dpi=300,\n",
    "                    bbox_inches='tight',facecolor='white')\n",
    "plt.show();"
   ]
  },
  {
   "cell_type": "code",
   "execution_count": null,
   "id": "1044c26f-76e0-4acd-9007-af8f4f52e817",
   "metadata": {
    "tags": []
   },
   "outputs": [],
   "source": [
    "myprint('plots of temperature profile fit saved to output folder')\n",
    "if run_with_dialog == True:\n",
    "    time.sleep(2)\n",
    "    myinput('if satisfied with fit, press enter to run PFR simulation')\n",
    "else:\n",
    "    ...\n",
    "myprint('PFR simulation running...')"
   ]
  },
  {
   "cell_type": "code",
   "execution_count": null,
   "id": "46d8f28a-c77e-4e2d-bd84-21deb26bea05",
   "metadata": {
    "tags": []
   },
   "outputs": [],
   "source": [
    "# Interpolate res time fit to user-defined resolution\n",
    "i_t = t_cum[np.round(injection_loc,0)] #res time at injection location\n",
    "\n",
    "tgap1 = np.zeros(int(i_t/elsewhere_res_time_step)) + elsewhere_res_time_step # time steps before injection\n",
    "\n",
    "tinj = np.zeros(int(post_injection_duration/post_injection_res_time_step)) + post_injection_res_time_step # time steps during injection\n",
    "\n",
    "tgap2 = np.zeros(int((t_cum[-1]-i_t-post_injection_duration)/elsewhere_res_time_step)) + elsewhere_res_time_step # time steps after injection\n",
    " \n",
    "tnew = np.concatenate(([0],tgap1,[i_t-sum(tgap1)],tinj,tgap2)) # list of res times (seconds) at user-defined resolution\n",
    "f = interpolate.interp1d(t_cum, T_fit)  # interpolate temperature fit to res time fit, using t_cum as x and T_fit as y\n",
    "Tnew = f(np.cumsum(tnew))"
   ]
  },
  {
   "cell_type": "code",
   "execution_count": null,
   "id": "be179f17-0e36-4f72-9312-58ddb9a6db64",
   "metadata": {
    "tags": []
   },
   "outputs": [],
   "source": [
    "# define a function to map gri flame-gas species concentrations to mechanism species concentrations\n",
    "\n",
    "def gri_to_mech(mech):\n",
    "    gri_species = list(ct.Solution('files/gri3.0.yaml').species_names)\n",
    "    mech_species = list(ct.Solution(mechanism).species_names)\n",
    "    gri_c = list(ct.Solution(fname).X)\n",
    "    mech_c = list(ct.Solution(mechanism).X)\n",
    "    for species in gri_species:\n",
    "        if species in mech_species:\n",
    "            mech_c[mech_species.index(species)] = gri_c[gri_species.index(species)]\n",
    "        else:\n",
    "            ...\n",
    "    return mech_c"
   ]
  },
  {
   "cell_type": "code",
   "execution_count": null,
   "id": "e091891e-dcd6-476c-ad64-a5030849525f",
   "metadata": {
    "tags": []
   },
   "outputs": [],
   "source": [
    "# define the simulation loop for the res time vs. temp profile\n",
    "\n",
    "def sim(T,t):\n",
    "    intic = time.time()\n",
    "    gas1,r1,sim1 = None,None,None\n",
    "    pressure = ct.one_atm  # constant pressure [Pa]\n",
    "    gas1 = ct.Solution(mechanism)\n",
    "    concentrations = gri_to_mech(mechanism)\n",
    "    rates = list(gas1.net_rates_of_progress)\n",
    "\n",
    "    # determine index of injectant\n",
    "    injectant_index = ct.Solution(mechanism).species_index(injectant)\n",
    "\n",
    "    c=[]\n",
    "    nrp=[]\n",
    "    flag = False\n",
    "    timestep = 0\n",
    "    loop_t_cum = 0\n",
    "    inj_i = len(tgap1)+2\n",
    "\n",
    "    for T_i, t_i in zip(T,t):\n",
    "        \n",
    "        if timestep >= inj_i and flag == False:\n",
    "            concentrations[injectant_index] = injectant_conc\n",
    "            flag = True\n",
    "        else:\n",
    "            ...\n",
    "\n",
    "        # wait to append concentrations until time of injection if it0 == True\n",
    "        if it0 == False or flag == True:\n",
    "            c.append(concentrations)\n",
    "            nrp.append(rates)\n",
    "        else:\n",
    "            ...\n",
    "\n",
    "        gas1.TPX = T_i, pressure, concentrations\n",
    "        r1 = ct.IdealGasConstPressureReactor(gas1,energy=\"off\")\n",
    "        sim1 = ct.ReactorNet([r1])\n",
    "        sim1.atol = atol\n",
    "        sim1.rtol = rtol\n",
    "        sim1.advance(t_i)\n",
    "        concentrations = list(r1.thermo.X)\n",
    "        rates = list(r1.thermo.net_rates_of_progress)\n",
    "\n",
    "        timestep+=1\n",
    "        loop_t_cum += t_i\n",
    "        if (timestep % print_info_every == 0):\n",
    "            intoc = time.time()\n",
    "            myprint(\n",
    "                f'timestep: {timestep}   total residence time (s): {str(round(loop_t_cum, 4))}   temperature (K): {str(round(T_i, 2))}   elapsed wall time(s): {str(round(intoc - intic, 2))}'\n",
    "            )\n",
    "\n",
    "    return c, nrp"
   ]
  },
  {
   "cell_type": "code",
   "execution_count": null,
   "id": "2a9f4278-ce0d-4585-a900-6f8482ee6d38",
   "metadata": {
    "tags": []
   },
   "outputs": [],
   "source": [
    "# run the simulation\n",
    "tic = time.time()\n",
    "sim_data, nrp = sim(Tnew,tnew)\n",
    "toc = time.time()\n",
    "myprint(\n",
    "    f'PFR simulation completed with wall time of: {str(round(toc - tic, 2))} seconds'\n",
    ")"
   ]
  },
  {
   "cell_type": "code",
   "execution_count": null,
   "id": "54d9c9a0-9c56-4982-82fe-a7f807448fe5",
   "metadata": {
    "tags": []
   },
   "outputs": [],
   "source": [
    "# generate excel files\n",
    "myprint(' ')\n",
    "if run_with_dialog == True:\n",
    "    time.sleep(2)\n",
    "    myinput('press enter to generate output')\n",
    "else:\n",
    "    ...\n",
    "myprint('generating and saving output to output folder...')"
   ]
  },
  {
   "cell_type": "code",
   "execution_count": null,
   "id": "8a5a8e42-ef1c-4225-9842-b689aac50037",
   "metadata": {
    "tags": []
   },
   "outputs": [],
   "source": [
    "cantera_species = ct.Solution(mechanism).species_names\n",
    "tplot = np.concatenate(([0],np.cumsum(tinj),np.cumsum(tgap2)+sum(tinj)))[:-1]\n",
    "Tplot = Tnew[len(tnew)-len(sim_data):]\n",
    "\n",
    "sim_data_new = list(np.array(sim_data).T)\n",
    "sim_data_new.insert(0,Tplot)\n",
    "sim_data_new.insert(0,tplot)\n",
    "sol = np.array(sim_data_new).T\n",
    "columns = ['Residence Time (seconds)','Temperature (K)'] + cantera_species\n",
    "pd.DataFrame(sol,columns=columns).to_excel(output_folder+\"\\\\solution_concentrations.xlsx\")"
   ]
  },
  {
   "cell_type": "code",
   "execution_count": null,
   "id": "d15192d9-a2ca-49a1-8e6c-8743549f88ef",
   "metadata": {
    "tags": []
   },
   "outputs": [],
   "source": [
    "eff_c = [] # effluent concentrations\n",
    "\n",
    "for species in np.arange(len(cantera_species)):\n",
    "    name = cantera_species[species]\n",
    "    eff_c.append([name, np.array(sim_data)[:,species][-1]])\n",
    "\n",
    "c = np.array(eff_c)\n",
    "c_sorted = c[(c[:,1]).astype(float).argsort()[::-1]]\n",
    "df = pd.DataFrame(c_sorted, columns=['Species','Effluent Concentration (mol fraction)'])\n",
    "df.to_excel(output_folder+\"\\\\solution_effluent_concentrations.xlsx\")"
   ]
  },
  {
   "cell_type": "code",
   "execution_count": null,
   "id": "5db9f7c6-0141-4c07-aa76-8830ae0cf2c8",
   "metadata": {
    "scrolled": true,
    "tags": []
   },
   "outputs": [],
   "source": [
    "cantera_reactions = list(ct.Solution(mechanism).reaction_equations())\n",
    "if save_rates_solution == False:\n",
    "    ...\n",
    "else:\n",
    "    nrp_new = list(np.array(nrp).T)\n",
    "    nrp_new.insert(0,Tnew[len(tnew)-len(nrp):])\n",
    "    nrp_new.insert(0,tplot)\n",
    "    sol = np.array(nrp_new).T\n",
    "    columns = ['Residence Time (seconds)','Temperature (K)'] + cantera_reactions\n",
    "    pd.DataFrame(sol,columns=columns).to_excel(output_folder+\"\\\\solution_reactions.xlsx\")"
   ]
  },
  {
   "cell_type": "code",
   "execution_count": null,
   "id": "183d3b76-4720-4c1e-8c91-5925dd24fdae",
   "metadata": {
    "tags": []
   },
   "outputs": [],
   "source": [
    "data = np.array(sim_data).T\n",
    "fig = go.Figure()\n",
    "for i in np.arange(len(cantera_species)):\n",
    "    if max(data[i])<concentrations_interactive_plot_cutoff:\n",
    "        ...\n",
    "    else:\n",
    "        fig.add_trace(go.Scatter(x=tplot,y=data[i],name=cantera_species[i]))\n",
    "fig.update_yaxes(title_text='Concentration (mol fraction)',type='log',exponentformat='power')\n",
    "fig.update_xaxes(title_text='Residence Time (seconds)')\n",
    "fig.update_layout(template='plotly_white')\n",
    "fig.write_html(output_folder+\"\\\\interactive_plot_concentrations.html\")"
   ]
  },
  {
   "cell_type": "code",
   "execution_count": null,
   "id": "97657120-1d61-4826-8f0d-c1d3a54272b1",
   "metadata": {
    "tags": []
   },
   "outputs": [],
   "source": [
    "data = np.array(nrp).T\n",
    "fig = go.Figure()\n",
    "for i in np.arange(len(cantera_reactions)):\n",
    "    if max(data[i])<rates_interactive_plot_cutoff:\n",
    "        ...\n",
    "    else:\n",
    "        fig.add_trace(go.Scatter(x=tplot,y=data[i],name=cantera_reactions[i]))\n",
    "    \n",
    "ylabel='Net Rate of Progress (kmol/m3/s)'\n",
    "fig.update_yaxes(title_text=ylabel,type='log',exponentformat='power')\n",
    "fig.update_xaxes(title_text='Residence Time (seconds)')\n",
    "fig.update_layout(template='plotly_white')\n",
    "fig.write_html(output_folder+\"\\\\interactive_plot_net_rates.html\")"
   ]
  },
  {
   "cell_type": "code",
   "execution_count": null,
   "id": "e37de5f3-cfff-4021-b3fb-19e46f173f14",
   "metadata": {
    "tags": []
   },
   "outputs": [],
   "source": [
    "# generate figures and excel files\n",
    "# organize them based on maximum concentration across all slices\n",
    "\n",
    "if individual_plots == True:\n",
    "    if os.path.exists(output_folder+r\"\\\\individual_major_species\") == False:\n",
    "        os.makedirs(output_folder+r\"\\\\individual_major_species\")\n",
    "    if os.path.exists(output_folder+r\"\\\\individual_minor_species\") == False:\n",
    "        os.makedirs(output_folder+r\"\\\\individual_minor_species\")\n",
    "    neg_species = [] # negligible species\n",
    "    eff_c = [] # effluent concentrations\n",
    "\n",
    "    for species in np.arange(len(cantera_species)):\n",
    "        name = cantera_species[species]\n",
    "        eff_c.append([name, np.array(sim_data)[:,species][-1]])\n",
    "\n",
    "        plt.plot(tplot,np.array(sim_data)[:,species])\n",
    "        plt.xlabel('Residence time (seconds)')\n",
    "        plt.ylabel('Concentration (mol fraction)')\n",
    "        plt.title(name, fontsize=20,fontweight='bold')\n",
    "        plt.yscale('log')\n",
    "        if np.max(np.array(sim_data)[:,species]) > major_species_cutoff:\n",
    "            plt.savefig(output_folder+'\\\\individual_major_species\\\\'+name+'.png',dpi=300,\n",
    "                        bbox_inches='tight',facecolor='white');\n",
    "        elif np.max(np.array(sim_data)[:,species]) > minor_species_cutoff:\n",
    "            plt.savefig(output_folder+'\\\\individual_minor_species\\\\'+name+'.png',dpi=300,\n",
    "                        bbox_inches='tight',facecolor='white');\n",
    "        else:\n",
    "            neg_species.append([name, np.max(np.array(sim_data)[:,species])])\n",
    "        plt.close();\n",
    "\n",
    "    df = pd.DataFrame(neg_species, columns=['Species', 'Maximum Concentration (mol fraction)'])\n",
    "    df.to_excel(output_folder+\"\\\\negligible_species.xlsx\")\n",
    "    \n",
    "else:\n",
    "    ..."
   ]
  },
  {
   "cell_type": "code",
   "execution_count": null,
   "id": "8da5bc6a-e318-43c3-88d0-557e659062c0",
   "metadata": {
    "tags": []
   },
   "outputs": [],
   "source": [
    "plt.rcParams[\"figure.dpi\"] = 200\n",
    "gas = ct.Solution(mechanism)\n",
    "retry = 'y'\n",
    "\n",
    "while retry == 'y':\n",
    "    plot_step = np.abs(tplot - path_res_time).argmin()\n",
    "    P = ct.one_atm\n",
    "    T = Tplot[plot_step]\n",
    "    X = sim_data[plot_step]\n",
    "    gas.TPX = T, P, X\n",
    "\n",
    "    diagram = ct.ReactionPathDiagram(gas, path_element)\n",
    "    diagram.threshold = path_threshold\n",
    "    diagram.dot_options='node[shape=\"box\"]'\n",
    "    title = (\n",
    "        (\n",
    "            f'Path diagram for {path_element} at residence time of {str(path_res_time)}'\n",
    "            + ' seconds \\r scaled by maximum flux (kmol m-^3 s^-1) \\r'\n",
    "        )\n",
    "        + ' with displayed threshold of '\n",
    "    ) + str(path_threshold)\n",
    "    diagram.title = title\n",
    "    diagram.show_details = path_details\n",
    "    diagram.display_only(-1 if path_species == 'all' else gas.species_index(path_species))\n",
    "    dot_file = f\"{output_folder}/dotfile.dot\"\n",
    "    png_file = f\"{output_folder}/reaction_paths.png\"\n",
    "    diagram.write_dot(dot_file)\n",
    "    os.system(f'dot {dot_file} -Tpng -o {png_file} -Gdpi=100')\n",
    "    img = mpimage.imread(png_file)\n",
    "    plt.imshow(img)\n",
    "    plt.axis('off')\n",
    "    plt.show()\n",
    "    if run_with_dialog == True:\n",
    "        retry = myinput('path diagram saved to output folder...generate new path diagram? (y/n): ')\n",
    "    else:\n",
    "        retry = 'n'\n",
    "    if retry == 'y':\n",
    "        path_res_time = float(myinput('type path diagram residence time (in seconds) and press enter: '))\n",
    "        path_element = myinput('type path diagram element symbol and press enter: ')\n",
    "        path_species = myinput('type path diagram species and press enter (all/individual species name): ')\n",
    "        path_threshold = float(myinput('type path diagram threshold and press enter: '))\n",
    "        path_details = input('show path details? (y/n) and press enter: ').lower().strip() == 'y'\n",
    "    else:\n",
    "        ..."
   ]
  },
  {
   "cell_type": "code",
   "execution_count": null,
   "id": "26731723-70fb-45dc-b7b3-21682309ddae",
   "metadata": {
    "tags": []
   },
   "outputs": [],
   "source": [
    "tot_toc = time.time()\n",
    "myprint(\n",
    "    f'PFR run completed with total wall time of: {str(round(tot_toc - tot_tic, 2))} seconds'\n",
    ")\n",
    "time.sleep(3)"
   ]
  },
  {
   "cell_type": "code",
   "execution_count": null,
   "id": "667764fe-a027-4141-8ac5-2fd82488c76e",
   "metadata": {
    "tags": []
   },
   "outputs": [],
   "source": [
    "from ipywidgets import widgets, interact\n",
    "from ipywidgets import SelectionSlider"
   ]
  },
  {
   "cell_type": "code",
   "execution_count": 1,
   "id": "f900c3ae-17a6-401b-8f50-ce7d6728e4da",
   "metadata": {
    "tags": []
   },
   "outputs": [
    {
     "ename": "NameError",
     "evalue": "name 'plt' is not defined",
     "output_type": "error",
     "traceback": [
      "\u001b[1;31m---------------------------------------------------------------------------\u001b[0m",
      "\u001b[1;31mNameError\u001b[0m                                 Traceback (most recent call last)",
      "\u001b[1;32mc:\\Users\\KWILKES\\Desktop\\PFAS_Modeling\\pseudo_PFR\\PFRTP-Garrett.ipynb Cell 27\u001b[0m line \u001b[0;36m1\n\u001b[1;32m----> <a href='vscode-notebook-cell:/c%3A/Users/KWILKES/Desktop/PFAS_Modeling/pseudo_PFR/PFRTP-Garrett.ipynb#X35sZmlsZQ%3D%3D?line=0'>1</a>\u001b[0m plt\u001b[39m.\u001b[39mrcParams[\u001b[39m\"\u001b[39m\u001b[39mfigure.dpi\u001b[39m\u001b[39m\"\u001b[39m] \u001b[39m=\u001b[39m \u001b[39m200\u001b[39m\n\u001b[0;32m      <a href='vscode-notebook-cell:/c%3A/Users/KWILKES/Desktop/PFAS_Modeling/pseudo_PFR/PFRTP-Garrett.ipynb#X35sZmlsZQ%3D%3D?line=1'>2</a>\u001b[0m gas \u001b[39m=\u001b[39m ct\u001b[39m.\u001b[39mSolution(mechanism)\n\u001b[0;32m      <a href='vscode-notebook-cell:/c%3A/Users/KWILKES/Desktop/PFAS_Modeling/pseudo_PFR/PFRTP-Garrett.ipynb#X35sZmlsZQ%3D%3D?line=3'>4</a>\u001b[0m t_min \u001b[39m=\u001b[39m \u001b[39m0.0\u001b[39m\n",
      "\u001b[1;31mNameError\u001b[0m: name 'plt' is not defined"
     ]
    }
   ],
   "source": [
    "plt.rcParams[\"figure.dpi\"] = 200\n",
    "gas = ct.Solution(mechanism)\n",
    "\n",
    "t_min = 0.0\n",
    "t_max = post_injection_duration #max(tplot)\n",
    "t_step = post_injection_res_time_step #elsewhere_res_time_step\n",
    "\n",
    "thresh_min = 0.0\n",
    "thresh_max = 1.0\n",
    "thresh_step = 1e-2\n",
    "\n",
    "def format_float(num):\n",
    "    return np.format_float_positional(num, trim='-')\n",
    "\n",
    "@interact(\n",
    "    res_time=SelectionSlider(value=t_min+t_step,\n",
    "                             options=[(\"%g\"%i,i) for i in np.arange(t_min,t_max,t_step)]),\n",
    "    threshold=SelectionSlider(value=thresh_min+thresh_step,\n",
    "                              options=[(\"%g\"%i,i) for i in np.arange(thresh_min,thresh_max,thresh_step)]),\n",
    "    details=widgets.ToggleButton(),\n",
    "    species=widgets.Dropdown(\n",
    "        options=gas.element_names,\n",
    "        value=path_element,\n",
    "        description=\"Element\",\n",
    "        disabled=False,\n",
    "    ),\n",
    ")\n",
    "def plot_reaction_path_diagrams(res_time, threshold, details, species):\n",
    "    plot_step = np.abs(tplot - res_time).argmin()\n",
    "    P = ct.one_atm\n",
    "    T = Tplot[plot_step]\n",
    "    X = sim_data[plot_step]\n",
    "    gas.TPX = T, P, X\n",
    "\n",
    "    diagram = ct.ReactionPathDiagram(gas, species)\n",
    "    diagram.threshold = threshold\n",
    "    diagram.dot_options='node[shape=\"box\"]'\n",
    "    diagram.show_details = details\n",
    "    diagram.display_only(-1 if path_species == 'all' else gas.species_index(path_species))\n",
    "    #diagram.display_only(gas.species_index('HOCL'))\n",
    "    title = (\n",
    "        (\n",
    "            f'Path diagram for {species} at residence time of {str(res_time)}'\n",
    "            + ' seconds \\r scaled by maximum flux (kmol m-^3 s^-1) \\r'\n",
    "        )\n",
    "        + ' with displayed threshold of '\n",
    "    ) + str(threshold)\n",
    "    diagram.title = title\n",
    "    dot_file = f\"{output_folder}/dotfile.dot\"\n",
    "    png_file = f\"{output_folder}/reaction_paths.png\"\n",
    "    diagram.write_dot(dot_file)\n",
    "    os.system(f'dot {dot_file} -Tpng -o {png_file} -Gdpi=300')\n",
    "    img = mpimage.imread(png_file)\n",
    "    plt.imshow(img)\n",
    "    plt.axis('off')\n",
    "    plt.show()"
   ]
  }
 ],
 "metadata": {
  "kernelspec": {
   "display_name": "Python 3 (ipykernel)",
   "language": "python",
   "name": "python3"
  },
  "language_info": {
   "codemirror_mode": {
    "name": "ipython",
    "version": 3
   },
   "file_extension": ".py",
   "mimetype": "text/x-python",
   "name": "python",
   "nbconvert_exporter": "python",
   "pygments_lexer": "ipython3",
   "version": "3.10.11"
  }
 },
 "nbformat": 4,
 "nbformat_minor": 5
}
