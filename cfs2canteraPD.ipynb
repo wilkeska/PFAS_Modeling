{
 "cells": [
  {
   "cell_type": "markdown",
   "metadata": {},
   "source": [
    "## Table of Contents\n",
    "1. [Instructions](#Instructions)\n",
    "1. [Import Statements](#Import-Statements)\n",
    "1. [Functions](#Functions)"
   ]
  },
  {
   "cell_type": "markdown",
   "metadata": {
    "tags": []
   },
   "source": [
    "# Instructions:\n",
    "1. PFRTP-Garrett must be run with the same conditions first, as the species used in the path diagram for CFS are the species in the path diagram made by Cantera.\n",
    "1. Set injected_species to the species used in the simulation\n",
    "1. Set netj_file to the .netj file that was used for the simulation\n",
    "1. Run all"
   ]
  },
  {
   "cell_type": "markdown",
   "metadata": {},
   "source": [
    "# Import Statements"
   ]
  },
  {
   "cell_type": "code",
   "execution_count": 1,
   "metadata": {
    "tags": []
   },
   "outputs": [],
   "source": [
    "import sys\n",
    "import cantera as ct\n",
    "import pandas as pd\n",
    "import matplotlib.pyplot as plt\n",
    "import numpy as np\n",
    "import os as os\n",
    "import ipywidgets as widgets\n",
    "from ipywidgets import widgets, interact\n",
    "import matplotlib.pyplot as plt\n",
    "import matplotlib.image as mpimage\n",
    "import subprocess\n",
    "import re\n",
    "import graphviz"
   ]
  },
  {
   "cell_type": "code",
   "execution_count": 6,
   "metadata": {},
   "outputs": [],
   "source": [
    "mechanism = \"NCSU_PFASmech1.0.yaml\"\n",
    "plt.rcParams[\"figure.dpi\"] = 200\n",
    "gas = ct.Solution(mechanism)\n",
    "\n",
    "thresh_min = 0.0\n",
    "thresh_max = 1.0\n",
    "thresh_step = 1e-2\n",
    "cutoff = 1e-20\n",
    "tolerance = 0.0001\n",
    "injected_species = 'CF4'\n",
    "\n",
    "########## Path diagram ##########\n",
    "path_element = 'F' # case sensitive\n",
    "\n",
    "########## File paths ##########\n",
    "# Set the path to the netj file to be analyzed\n",
    "netj_file = '14.45.16_45kW_CF4_port4_16stream.netj'\n",
    "run_folder = netj_file.replace('.netj','')\n",
    "main_dir = os.path.join(os.getenv('USERPROFILE'), 'Desktop', 'PFAS_Modeling', 'cfs_runs')\n",
    "output_folder = os.path.join(main_dir, run_folder, 'reaction_paths')\n",
    "avg_file = os.path.join(main_dir, run_folder, 'excel\\\\avg_data.csv')\n",
    "vtk_path  = os.path.join(main_dir, run_folder, 'streamline_pp.vtk')\n",
    "pvpython_path = \"C:\\\\Program Files\\\\ParaView 5.11.2\\\\bin\\\\pvpython.exe\"\n",
    "vtk_path = vtk_path.replace('\\\\','/')\n",
    "destruct_path = os.path.join(main_dir, run_folder, 'excel\\\\destruct.csv')\n",
    "destruct_path = destruct_path.replace('\\\\','/')\n",
    "destruct_file = os.path.join(main_dir, run_folder, 'excel\\\\destruct.csv')\n",
    "destruct_file = destruct_file.replace('\\\\','/')\n",
    "script_content = \"from paraview.simple import *\\nreader = OpenDataFile('\" + vtk_path + \"')\\nSaveData('\"+ destruct_path + \"', proxy=reader, Precision=15)\"\n",
    "script_dir = os.path.join(main_dir, run_folder, 'excel\\\\convert_script.py')\n",
    "\n",
    "\n",
    "pattern = r\"(\\d{2}\\.\\d{2,3})\\.\\d+(_[^_]+_[^_]+_[^_]+)_\\d+stream\\.netj$\"\n",
    "replacement = r\"\\1\\2/dotfile.dot\"\n",
    "new_base_name = re.sub(pattern, replacement, netj_file)\n",
    "\n",
    "# Join the modified filename with the original directory\n",
    "dot_file = os.path.join(os.getenv('USERPROFILE'),'Desktop','PFAS_Modeling','pseudo_PFR','Output', new_base_name).replace('\\\\','/')\n",
    "\n",
    "\n",
    "########## Species list ##########\n",
    "def get_species_names(dot_file):\n",
    "    #read the dot file\n",
    "    dot_file = graphviz.Source.from_file(dot_file)\n",
    "    #make regex to find the labels, returning only the species names. The regex looks for the letters and numbers between label=\" and \", while ignoring values that don't have a letter in them\n",
    "    regex = r'(?<=label=\")[A-Za-z0-9]+(?=\")'\n",
    "\n",
    "    #use regex to get labels from the source\n",
    "    labels = dot_file.source\n",
    "    #get the labels from the source using regex\n",
    "    return(re.findall(regex, labels))\n",
    "\n",
    "spec_list = get_species_names(dot_file)\n",
    "#if entry in species list is only one character, add to element list\n",
    "elem_list = [spec_list[i] for i in range(len(spec_list)) if len(spec_list[i]) == 1] #TODO get elements from within compounds instead of just plain elements\n"
   ]
  },
  {
   "cell_type": "code",
   "execution_count": 3,
   "metadata": {},
   "outputs": [
    {
     "name": "stdout",
     "output_type": "stream",
     "text": [
      "Destruct.csv already exists, skipping creation\n"
     ]
    }
   ],
   "source": [
    "#Converting the vtk file to a usable data frame\n",
    "\n",
    "#run pvpython from command line with subprocess\n",
    "def run_pvpython():\n",
    "    subprocess.run([pvpython_path, script_dir], shell=True, stdout=subprocess.PIPE, stderr=subprocess.STDOUT, text = 'TRUE')\n",
    "\n",
    "if not os.path.exists(destruct_file): #check if destruct.csv exists\n",
    "    print('No destruct.csv, creating now') #if not, create it\n",
    "    if not os.path.exists(script_dir): #check if convert_script.py exists\n",
    "        print('No convert_script.py, creating now') #if not, create it\n",
    "        with open(script_dir, \"w\") as file: #write script to convert vtk to csv\n",
    "                file.write(script_content)\n",
    "                run_pvpython() #convert vtk to csv\n",
    "    else: #if convert_script.py already exists, run pvpython\n",
    "        print('convert_script.py already exists, skipping creation')\n",
    "        run_pvpython() #convert vtk to csv\n",
    "else: #if destruct.csv already exists, skip creation\n",
    "    print('Destruct.csv already exists, skipping creation')\n",
    "\n",
    "data = pd.read_csv(destruct_file, sep = ',', header = 0, index_col = False)\n",
    "data.rename(columns = {'OHr':'OH'}, inplace = True)\n",
    "traj_numbers = data['traj_number'].unique()\n",
    "\n"
   ]
  },
  {
   "cell_type": "markdown",
   "metadata": {},
   "source": [
    "# Functions"
   ]
  },
  {
   "cell_type": "code",
   "execution_count": 7,
   "metadata": {
    "tags": []
   },
   "outputs": [
    {
     "data": {
      "application/vnd.jupyter.widget-view+json": {
       "model_id": "b41726bc538e48c9a243fc415cae2015",
       "version_major": 2,
       "version_minor": 0
      },
      "text/plain": [
       "interactive(children=(Dropdown(description='Trajectory:', options=(0, 1, 2, 3, 4, 5, 6, 7, 8, 9, 10, 11, 12, 1…"
      ]
     },
     "metadata": {},
     "output_type": "display_data"
    }
   ],
   "source": [
    "def plot_reaction_path_diagrams(traj_num, res_time, threshold, details, species):\n",
    "    \"\"\"Plot reaction path diagram for a given trajectory number and residence time\"\"\"\n",
    "    #select only rows from avg_data with traj_num = traj_num\n",
    "    global plot_data\n",
    "    plot_data = data[data['traj_number'] == traj_num] #select only rows from data with traj_num = traj_num\n",
    "    plot_data = plot_data[plot_data[injected_species] > cutoff]\n",
    "    plot_data = calc_res_time(plot_data, cutoff)\n",
    "    global initial_row\n",
    "    initial_row = plot_data[\n",
    "        (plot_data['residence_time'] >= res_time - tolerance) &\n",
    "        (plot_data['residence_time'] <= res_time + tolerance)\n",
    "     ].iloc[0].to_frame().T #select row with residence time = res_time\n",
    "    global species_dict\n",
    "    species_dict = initial_row.drop(['time', 'TEMPERATURE:','PRESSURE:','MEAN_MW:','walls', 'traj_number','residence_time','Points:0', 'Points:1', 'Points:2'],axis= 'columns').iloc[0].to_dict()\n",
    "\n",
    "    P = ct.one_atm\n",
    "    T = initial_row['TEMPERATURE:']\n",
    "    X = species_dict\n",
    "    gas.TP = float(T.iloc[0]), P\n",
    "    gas.X = X\n",
    "\n",
    "    diagram = ct.ReactionPathDiagram(gas, species)\n",
    "    diagram.threshold = threshold\n",
    "    diagram.dot_options='node[shape=\"box\"]'\n",
    "    diagram.show_details = details\n",
    "    diagram.display_only(-1)\n",
    "    title = (\n",
    "        (\n",
    "            f'Path diagram for {species} at residence time of {str(format_float(res_time))}'\n",
    "            + ' seconds \\r scaled by maximum flux (kmol m-^3 s^-1) \\r'\n",
    "        )\n",
    "        + ' with displayed threshold of '\n",
    "    ) + str(threshold)\n",
    "    diagram.title = title\n",
    "    diagram.label_threshold = 0.0001\n",
    "    log_file = f\"{output_folder}/reaction_paths.log\"\n",
    "    with open(log_file, 'w') as f:\n",
    "        sys.stdout = f\n",
    "        diagram.build(verbose=True)\n",
    "        sys.stdout = sys.__stdout__\n",
    "    dot_file = f\"{output_folder}/dotfile.dot\"\n",
    "    png_file = f\"{output_folder}/reaction_paths.png\"\n",
    "    diagram.write_dot(dot_file)\n",
    "    os.system(f'dot {dot_file} -Tpng -o {png_file} -Gdpi=300')\n",
    "    return png_file\n",
    "\n",
    "def calc_res_time(df, cutoff):\n",
    "    '''Calculate the residence time for each row in the DataFrame'''\n",
    "    # find the time of injection for the trajectory\n",
    "    injection_time = df.loc[df[injected_species] > cutoff, 'time'].min()\n",
    "\n",
    "    # create a copy of the original DataFrame\n",
    "    new_df = df.loc[df[injected_species] > cutoff].copy()\n",
    "\n",
    "    # calculate the residence time for each row\n",
    "    new_df['residence_time'] = new_df['time'] - injection_time\n",
    "\n",
    "    return new_df\n",
    "\n",
    "def validate_and_reset_indices(traj_data):\n",
    "    ''' Validate that the index of the DataFrame is equal to the range of the length of the DataFrame and reset the index if necessary '''\n",
    "    if not np.array_equal(traj_data.index, np.arange(len(traj_data))):\n",
    "        traj_data = traj_data.reset_index(drop=True)\n",
    "        return traj_data\n",
    "    \n",
    "def format_float(num):\n",
    "    return np.format_float_positional(num, precision=6, fractional=False)\n",
    "\n",
    "def traj_data_and_res_time(traj_num, res_time):\n",
    "    ''' Select the trajectory data for the given trajectory number and residence time '''\n",
    "    traj_data = data[data['traj_number'] == traj_num] #select only rows from avg_data with traj_num = traj_num\n",
    "    traj_data = calc_res_time(traj_data, cutoff) #calculate residence time, add to traj_data\n",
    "    traj_data = traj_data.reset_index(drop=True) #reset index \n",
    "    if res_time < len(traj_data['residence_time']): \n",
    "        res_time_row = traj_data.iloc[res_time] #select row with residence time = res_time\n",
    "        actual_res_time = res_time_row.loc['residence_time'] #get actual residence time from row\n",
    "    else:\n",
    "        actual_res_time = 0\n",
    "    res_time_str = format_float(actual_res_time)\n",
    "    res_time_slider.description = f\"Residence Time: {res_time_str}\"\n",
    "    return traj_data, actual_res_time\n",
    "\n",
    "def update_time_description(change):\n",
    "    ''' Update the residence time description when the slider value changes '''\n",
    "    traj_num = traj_dropdown.value\n",
    "    traj_data_and_res_time(traj_num, change.new)\n",
    "\n",
    "\n",
    "#making interactive options\n",
    "traj_dropdown = widgets.Dropdown(options = traj_numbers, value = traj_numbers[0], description = 'Trajectory:')\n",
    "resmax = len(data[data['traj_number'] == traj_dropdown.value])\n",
    "res_time_slider = widgets.IntSlider(min=0, max=resmax-1, step=1, value=1, \n",
    "                                    description='Residence Time: 1.0', \n",
    "                                    style = {'description_width': 'initial'}, \n",
    "                                    layout = widgets.Layout(width = '50%'), \n",
    "                                    continuous_update = False, \n",
    "                                    readout = True)\n",
    "res_time_slider.observe(update_time_description, names='value')\n",
    "threshold_slider = widgets.FloatSlider(min = thresh_min, max = thresh_max, step = thresh_step, value = 0.01, description = 'Threshold:', readout_format = '.4f' )\n",
    "details_toggle = widgets.ToggleButton(value = False, description = 'Details:')\n",
    "species_dropdown = widgets.Dropdown(options = elem_list, value = 'F', description = 'Species:')\n",
    "\n",
    "@interact(traj_num = traj_dropdown, res_time = res_time_slider, threshold = threshold_slider, details = details_toggle, species = species_dropdown)\n",
    "\n",
    "def update_plot(traj_num, res_time, threshold, details, species):\n",
    "    ''' Update the plot when the trajectory number, residence time, threshold, details, or species changes '''\n",
    "    plt.close('all')\n",
    "    global traj_data\n",
    "    traj_data, actual_res_time = traj_data_and_res_time(traj_num, res_time)\n",
    "    resmax = len(traj_data['residence_time'])\n",
    "    res_time_slider.max = resmax-1\n",
    "    \n",
    "    img = mpimage.imread(plot_reaction_path_diagrams(traj_num, actual_res_time, threshold, details, species))\n",
    "    \n",
    "    plt.imshow(img)\n",
    "    plt.axis('off')\n"
   ]
  }
 ],
 "metadata": {
  "kernelspec": {
   "display_name": "Python 3",
   "language": "python",
   "name": "python3"
  },
  "language_info": {
   "codemirror_mode": {
    "name": "ipython",
    "version": 3
   },
   "file_extension": ".py",
   "mimetype": "text/x-python",
   "name": "python",
   "nbconvert_exporter": "python",
   "pygments_lexer": "ipython3",
   "version": "3.11.5"
  },
  "orig_nbformat": 4
 },
 "nbformat": 4,
 "nbformat_minor": 2
}
