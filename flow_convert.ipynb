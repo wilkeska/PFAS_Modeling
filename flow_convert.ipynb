{
 "cells": [
  {
   "cell_type": "code",
   "execution_count": 2,
   "metadata": {},
   "outputs": [
    {
     "data": {
      "application/vnd.jupyter.widget-view+json": {
       "model_id": "c9f8926ed9bd4aabacd5a7e30f3caab6",
       "version_major": 2,
       "version_minor": 0
      },
      "text/plain": [
       "interactive(children=(Dropdown(description='Species:', index=1, options=('CH4', 'air'), value='air'), FloatTex…"
      ]
     },
     "metadata": {},
     "output_type": "display_data"
    }
   ],
   "source": [
    "import cantera as ct\n",
    "from ipywidgets import interact, widgets\n",
    "from IPython.display import display\n",
    "\n",
    "# Function to calculate the mass flow rate\n",
    "def volumetric_to_mass_flow(species_name, volumetric_flow_lpm):\n",
    "    \n",
    "    # Map species to their respective mechanisms and how to specify them\n",
    "    species_info = {\n",
    "        'CH4': {'mechanism': 'gri30.yaml', 'specifier': 'species_names'},\n",
    "        'air': {'mechanism': 'air.yaml', 'specifier': 'name'}\n",
    "    }\n",
    "\n",
    "    mechanism = species_info[species_name]['mechanism']\n",
    "    specifier = species_info[species_name]['specifier']\n",
    "\n",
    "    # Convert volumetric flow rate from L/min to m^3/s\n",
    "    volumetric_flow_m3s = volumetric_flow_lpm / 60000\n",
    "\n",
    "    # Create a ThermoPhase object\n",
    "    if specifier == 'species_names':\n",
    "        gas = ct.ThermoPhase(mechanism, species=species_name)\n",
    "\n",
    "        gas_index = gas.species_index(species_name)\n",
    "        rho = gas.molecular_weights[gas_index]/gas.volume_mole # density in kg/m^3\n",
    "    else:\n",
    "        gas = ct.ThermoPhase(mechanism, name=species_name)\n",
    "        rho = gas.density # density in kg/m^3\n",
    "\n",
    "    gas.TP = 293.15, 101325 # Set some default T and P\n",
    "\n",
    "    return volumetric_flow_m3s * rho\n",
    "\n",
    "# Interactive function\n",
    "def interactive_flow_rate():\n",
    "    # Dropdown for species choice\n",
    "    species_widget = widgets.Dropdown(\n",
    "        options=['CH4', 'air'],\n",
    "        value='air',\n",
    "        description='Species:'\n",
    "    )\n",
    "\n",
    "    # Input for volumetric flow rate\n",
    "    flow_rate_widget = widgets.FloatText(\n",
    "        value=920.0,\n",
    "        description='Flow Rate (L/min):',\n",
    "    )\n",
    "\n",
    "    # Function to update and display result\n",
    "    def update_and_display(species, volumetric_flow):\n",
    "        result = volumetric_to_mass_flow(species, volumetric_flow)\n",
    "        print(f\"Mass flow rate: {result:.10f} kg/s\")\n",
    "\n",
    "    # Interactive widget\n",
    "    interact(update_and_display, species=species_widget, volumetric_flow=flow_rate_widget)\n",
    "\n",
    "# Run the interactive display\n",
    "interactive_flow_rate()"
   ]
  }
 ],
 "metadata": {
  "kernelspec": {
   "display_name": ".venv",
   "language": "python",
   "name": "python3"
  },
  "language_info": {
   "codemirror_mode": {
    "name": "ipython",
    "version": 3
   },
   "file_extension": ".py",
   "mimetype": "text/x-python",
   "name": "python",
   "nbconvert_exporter": "python",
   "pygments_lexer": "ipython3",
   "version": "3.10.11"
  },
  "orig_nbformat": 4
 },
 "nbformat": 4,
 "nbformat_minor": 2
}
